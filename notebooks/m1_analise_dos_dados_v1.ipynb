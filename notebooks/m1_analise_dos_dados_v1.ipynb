{
 "cells": [
  {
   "cell_type": "markdown",
   "id": "3b93c46b",
   "metadata": {},
   "source": [
    "# 0.0 IMPORT"
   ]
  },
  {
   "cell_type": "code",
   "execution_count": 1,
   "id": "9bb4631a",
   "metadata": {
    "ExecuteTime": {
     "end_time": "2021-11-18T10:20:33.490364Z",
     "start_time": "2021-11-18T10:20:28.077566Z"
    }
   },
   "outputs": [],
   "source": [
    "import pandas as pd\n",
    "import numpy as np\n",
    "\n",
    "from sqlalchemy import create_engine"
   ]
  },
  {
   "cell_type": "markdown",
   "id": "c8f60f48",
   "metadata": {},
   "source": [
    "## 0.1 Coleta de dados"
   ]
  },
  {
   "cell_type": "code",
   "execution_count": 2,
   "id": "9f074664",
   "metadata": {
    "ExecuteTime": {
     "end_time": "2021-11-18T10:20:33.510259Z",
     "start_time": "2021-11-18T10:20:33.492773Z"
    }
   },
   "outputs": [],
   "source": [
    "path = '/home/borges/'\n",
    "database_name = 'database_hm.sqlite'\n",
    "conn = create_engine('sqlite:///' + path + database_name, echo=False)"
   ]
  },
  {
   "cell_type": "code",
   "execution_count": 3,
   "id": "392575b4",
   "metadata": {
    "ExecuteTime": {
     "end_time": "2021-11-18T10:20:33.517858Z",
     "start_time": "2021-11-18T10:20:33.513979Z"
    }
   },
   "outputs": [],
   "source": [
    "query = \"\"\"\n",
    "    SELECT * FROM vitrine\n",
    "\"\"\""
   ]
  },
  {
   "cell_type": "code",
   "execution_count": 4,
   "id": "a70d2bc6",
   "metadata": {
    "ExecuteTime": {
     "end_time": "2021-11-18T10:20:33.594361Z",
     "start_time": "2021-11-18T10:20:33.520394Z"
    }
   },
   "outputs": [],
   "source": [
    "df_raw = pd.read_sql(query, con=conn)"
   ]
  },
  {
   "cell_type": "code",
   "execution_count": 5,
   "id": "f479c29d",
   "metadata": {
    "ExecuteTime": {
     "end_time": "2021-11-18T10:20:33.660267Z",
     "start_time": "2021-11-18T10:20:33.597422Z"
    }
   },
   "outputs": [
    {
     "data": {
      "text/html": [
       "<div>\n",
       "<style scoped>\n",
       "    .dataframe tbody tr th:only-of-type {\n",
       "        vertical-align: middle;\n",
       "    }\n",
       "\n",
       "    .dataframe tbody tr th {\n",
       "        vertical-align: top;\n",
       "    }\n",
       "\n",
       "    .dataframe thead th {\n",
       "        text-align: right;\n",
       "    }\n",
       "</style>\n",
       "<table border=\"1\" class=\"dataframe\">\n",
       "  <thead>\n",
       "    <tr style=\"text-align: right;\">\n",
       "      <th></th>\n",
       "      <th>product_id</th>\n",
       "      <th>style_id</th>\n",
       "      <th>color_id</th>\n",
       "      <th>product_name</th>\n",
       "      <th>color_name</th>\n",
       "      <th>fit</th>\n",
       "      <th>product_pric</th>\n",
       "      <th>size_number</th>\n",
       "      <th>size_model</th>\n",
       "      <th>cotton</th>\n",
       "      <th>polyester</th>\n",
       "      <th>elastane</th>\n",
       "      <th>elasterell</th>\n",
       "      <th>scrapy_datetime</th>\n",
       "    </tr>\n",
       "  </thead>\n",
       "  <tbody>\n",
       "    <tr>\n",
       "      <th>217</th>\n",
       "      <td>0730863033</td>\n",
       "      <td>0730863</td>\n",
       "      <td>033</td>\n",
       "      <td>skinny_jeans</td>\n",
       "      <td>black/no_fade_black</td>\n",
       "      <td>skinny_fit</td>\n",
       "      <td>29.99</td>\n",
       "      <td>None</td>\n",
       "      <td>None</td>\n",
       "      <td>0.98</td>\n",
       "      <td>0.00</td>\n",
       "      <td>0.02</td>\n",
       "      <td>0.0</td>\n",
       "      <td>2021-09-06 19:41:22</td>\n",
       "    </tr>\n",
       "    <tr>\n",
       "      <th>193</th>\n",
       "      <td>0690449051</td>\n",
       "      <td>0690449</td>\n",
       "      <td>051</td>\n",
       "      <td>skinny_jeans</td>\n",
       "      <td>gray</td>\n",
       "      <td>skinny_fit</td>\n",
       "      <td>39.99</td>\n",
       "      <td>None</td>\n",
       "      <td>None</td>\n",
       "      <td>0.98</td>\n",
       "      <td>0.00</td>\n",
       "      <td>0.02</td>\n",
       "      <td>0.0</td>\n",
       "      <td>2021-09-06 19:41:22</td>\n",
       "    </tr>\n",
       "    <tr>\n",
       "      <th>788</th>\n",
       "      <td>1008549006</td>\n",
       "      <td>1008549</td>\n",
       "      <td>006</td>\n",
       "      <td>regular_jeans</td>\n",
       "      <td>black</td>\n",
       "      <td>regular_fit</td>\n",
       "      <td>19.99</td>\n",
       "      <td>None</td>\n",
       "      <td>None</td>\n",
       "      <td>1.00</td>\n",
       "      <td>0.00</td>\n",
       "      <td>0.01</td>\n",
       "      <td>0.0</td>\n",
       "      <td>2021-09-07 13:59:24</td>\n",
       "    </tr>\n",
       "    <tr>\n",
       "      <th>438</th>\n",
       "      <td>0636207011</td>\n",
       "      <td>0636207</td>\n",
       "      <td>011</td>\n",
       "      <td>slim_jeans</td>\n",
       "      <td>midnight_blue</td>\n",
       "      <td>slim_fit</td>\n",
       "      <td>19.99</td>\n",
       "      <td>None</td>\n",
       "      <td>None</td>\n",
       "      <td>0.89</td>\n",
       "      <td>0.65</td>\n",
       "      <td>0.01</td>\n",
       "      <td>0.0</td>\n",
       "      <td>2021-09-07 10:23:00</td>\n",
       "    </tr>\n",
       "    <tr>\n",
       "      <th>486</th>\n",
       "      <td>1013317001</td>\n",
       "      <td>1013317</td>\n",
       "      <td>001</td>\n",
       "      <td>hybrid_regular_tapered_joggers</td>\n",
       "      <td>light_denim_blue</td>\n",
       "      <td>regular_fit</td>\n",
       "      <td>39.99</td>\n",
       "      <td>None</td>\n",
       "      <td>None</td>\n",
       "      <td>0.77</td>\n",
       "      <td>0.21</td>\n",
       "      <td>0.02</td>\n",
       "      <td>0.0</td>\n",
       "      <td>2021-09-07 10:23:00</td>\n",
       "    </tr>\n",
       "    <tr>\n",
       "      <th>234</th>\n",
       "      <td>0730863040</td>\n",
       "      <td>0730863</td>\n",
       "      <td>040</td>\n",
       "      <td>skinny_jeans</td>\n",
       "      <td>denim_blue</td>\n",
       "      <td>skinny_fit</td>\n",
       "      <td>29.99</td>\n",
       "      <td>None</td>\n",
       "      <td>None</td>\n",
       "      <td>0.98</td>\n",
       "      <td>0.00</td>\n",
       "      <td>0.02</td>\n",
       "      <td>0.0</td>\n",
       "      <td>2021-09-06 19:41:22</td>\n",
       "    </tr>\n",
       "    <tr>\n",
       "      <th>1037</th>\n",
       "      <td>0720504004</td>\n",
       "      <td>0720504</td>\n",
       "      <td>004</td>\n",
       "      <td>skinny_jeans</td>\n",
       "      <td>light_denim_blue</td>\n",
       "      <td>skinny_fit</td>\n",
       "      <td>12.99</td>\n",
       "      <td>None</td>\n",
       "      <td>None</td>\n",
       "      <td>1.00</td>\n",
       "      <td>0.14</td>\n",
       "      <td>0.01</td>\n",
       "      <td>0.0</td>\n",
       "      <td>2021-09-08 09:52:51</td>\n",
       "    </tr>\n",
       "    <tr>\n",
       "      <th>108</th>\n",
       "      <td>0811993025</td>\n",
       "      <td>0811993</td>\n",
       "      <td>025</td>\n",
       "      <td>regular_jeans</td>\n",
       "      <td>light_blue</td>\n",
       "      <td>regular_fit</td>\n",
       "      <td>15.99</td>\n",
       "      <td>None</td>\n",
       "      <td>None</td>\n",
       "      <td>1.00</td>\n",
       "      <td>0.00</td>\n",
       "      <td>0.01</td>\n",
       "      <td>0.0</td>\n",
       "      <td>2021-09-06 19:25:43</td>\n",
       "    </tr>\n",
       "  </tbody>\n",
       "</table>\n",
       "</div>"
      ],
      "text/plain": [
       "      product_id style_id color_id                    product_name  \\\n",
       "217   0730863033  0730863      033                    skinny_jeans   \n",
       "193   0690449051  0690449      051                    skinny_jeans   \n",
       "788   1008549006  1008549      006                   regular_jeans   \n",
       "438   0636207011  0636207      011                      slim_jeans   \n",
       "486   1013317001  1013317      001  hybrid_regular_tapered_joggers   \n",
       "234   0730863040  0730863      040                    skinny_jeans   \n",
       "1037  0720504004  0720504      004                    skinny_jeans   \n",
       "108   0811993025  0811993      025                   regular_jeans   \n",
       "\n",
       "               color_name          fit  product_pric size_number size_model  \\\n",
       "217   black/no_fade_black   skinny_fit         29.99        None       None   \n",
       "193                  gray   skinny_fit         39.99        None       None   \n",
       "788                 black  regular_fit         19.99        None       None   \n",
       "438         midnight_blue     slim_fit         19.99        None       None   \n",
       "486      light_denim_blue  regular_fit         39.99        None       None   \n",
       "234            denim_blue   skinny_fit         29.99        None       None   \n",
       "1037     light_denim_blue   skinny_fit         12.99        None       None   \n",
       "108            light_blue  regular_fit         15.99        None       None   \n",
       "\n",
       "      cotton  polyester  elastane  elasterell      scrapy_datetime  \n",
       "217     0.98       0.00      0.02         0.0  2021-09-06 19:41:22  \n",
       "193     0.98       0.00      0.02         0.0  2021-09-06 19:41:22  \n",
       "788     1.00       0.00      0.01         0.0  2021-09-07 13:59:24  \n",
       "438     0.89       0.65      0.01         0.0  2021-09-07 10:23:00  \n",
       "486     0.77       0.21      0.02         0.0  2021-09-07 10:23:00  \n",
       "234     0.98       0.00      0.02         0.0  2021-09-06 19:41:22  \n",
       "1037    1.00       0.14      0.01         0.0  2021-09-08 09:52:51  \n",
       "108     1.00       0.00      0.01         0.0  2021-09-06 19:25:43  "
      ]
     },
     "execution_count": 5,
     "metadata": {},
     "output_type": "execute_result"
    }
   ],
   "source": [
    "df_raw.sample(8)"
   ]
  },
  {
   "cell_type": "markdown",
   "id": "9d472698",
   "metadata": {},
   "source": [
    "# 1.0 Passo 01 - Descrição dos dados"
   ]
  },
  {
   "cell_type": "code",
   "execution_count": 6,
   "id": "14df367b",
   "metadata": {
    "ExecuteTime": {
     "end_time": "2021-11-18T10:20:33.669978Z",
     "start_time": "2021-11-18T10:20:33.664097Z"
    }
   },
   "outputs": [],
   "source": [
    "df01 = df_raw.copy()"
   ]
  },
  {
   "cell_type": "markdown",
   "id": "fd97097b",
   "metadata": {},
   "source": [
    "## 1.1 Dimesão dos dados"
   ]
  },
  {
   "cell_type": "code",
   "execution_count": 7,
   "id": "7b5698b3",
   "metadata": {
    "ExecuteTime": {
     "end_time": "2021-11-18T10:20:33.679578Z",
     "start_time": "2021-11-18T10:20:33.673138Z"
    }
   },
   "outputs": [
    {
     "name": "stdout",
     "output_type": "stream",
     "text": [
      "Number of Rows: 1168\n",
      "Number of Columns: 14\n"
     ]
    }
   ],
   "source": [
    "print('Number of Rows: {}'.format(df01.shape[0]))\n",
    "print('Number of Columns: {}'.format(df01.shape[1]))"
   ]
  },
  {
   "cell_type": "markdown",
   "id": "213b070e",
   "metadata": {},
   "source": [
    "## 1.2 Tipos de dados"
   ]
  },
  {
   "cell_type": "code",
   "execution_count": 8,
   "id": "de86a51f",
   "metadata": {
    "ExecuteTime": {
     "end_time": "2021-11-18T10:20:33.694966Z",
     "start_time": "2021-11-18T10:20:33.685515Z"
    }
   },
   "outputs": [
    {
     "data": {
      "text/plain": [
       "product_id          object\n",
       "style_id            object\n",
       "color_id            object\n",
       "product_name        object\n",
       "color_name          object\n",
       "fit                 object\n",
       "product_pric       float64\n",
       "size_number         object\n",
       "size_model          object\n",
       "cotton             float64\n",
       "polyester          float64\n",
       "elastane           float64\n",
       "elasterell         float64\n",
       "scrapy_datetime     object\n",
       "dtype: object"
      ]
     },
     "execution_count": 8,
     "metadata": {},
     "output_type": "execute_result"
    }
   ],
   "source": [
    "df01.dtypes"
   ]
  },
  {
   "cell_type": "code",
   "execution_count": 9,
   "id": "27a2563f",
   "metadata": {
    "ExecuteTime": {
     "end_time": "2021-11-18T10:20:33.723354Z",
     "start_time": "2021-11-18T10:20:33.699529Z"
    }
   },
   "outputs": [
    {
     "data": {
      "text/plain": [
       "product_id                 object\n",
       "style_id                   object\n",
       "color_id                   object\n",
       "product_name               object\n",
       "color_name                 object\n",
       "fit                        object\n",
       "product_pric              float64\n",
       "size_number                object\n",
       "size_model                 object\n",
       "cotton                    float64\n",
       "polyester                 float64\n",
       "elastane                  float64\n",
       "elasterell                float64\n",
       "scrapy_datetime    datetime64[ns]\n",
       "dtype: object"
      ]
     },
     "execution_count": 9,
     "metadata": {},
     "output_type": "execute_result"
    }
   ],
   "source": [
    "# convert object to datetime\n",
    "df01['scrapy_datetime'] = pd.to_datetime(df01['scrapy_datetime'])\n",
    "df01.dtypes"
   ]
  },
  {
   "cell_type": "markdown",
   "id": "8df687b5",
   "metadata": {},
   "source": [
    "## 1.3 Idetificação de dados faltantes"
   ]
  },
  {
   "cell_type": "code",
   "execution_count": 10,
   "id": "8a47f592",
   "metadata": {
    "ExecuteTime": {
     "end_time": "2021-11-18T10:20:33.738874Z",
     "start_time": "2021-11-18T10:20:33.726321Z"
    },
    "cell_style": "split",
    "scrolled": true
   },
   "outputs": [
    {
     "data": {
      "text/plain": [
       "product_id           0\n",
       "style_id             0\n",
       "color_id             0\n",
       "product_name         0\n",
       "color_name           0\n",
       "fit                  0\n",
       "product_pric         0\n",
       "size_number        918\n",
       "size_model         934\n",
       "cotton               0\n",
       "polyester            0\n",
       "elastane             0\n",
       "elasterell           0\n",
       "scrapy_datetime      0\n",
       "dtype: int64"
      ]
     },
     "execution_count": 10,
     "metadata": {},
     "output_type": "execute_result"
    }
   ],
   "source": [
    "df01.isna().sum()"
   ]
  },
  {
   "cell_type": "code",
   "execution_count": 11,
   "id": "f0346c69",
   "metadata": {
    "ExecuteTime": {
     "end_time": "2021-11-18T10:20:33.781459Z",
     "start_time": "2021-11-18T10:20:33.741606Z"
    },
    "cell_style": "split"
   },
   "outputs": [
    {
     "data": {
      "text/plain": [
       "product_id         0.000000\n",
       "style_id           0.000000\n",
       "color_id           0.000000\n",
       "product_name       0.000000\n",
       "color_name         0.000000\n",
       "fit                0.000000\n",
       "product_pric       0.000000\n",
       "size_number        0.785959\n",
       "size_model         0.799658\n",
       "cotton             0.000000\n",
       "polyester          0.000000\n",
       "elastane           0.000000\n",
       "elasterell         0.000000\n",
       "scrapy_datetime    0.000000\n",
       "dtype: float64"
      ]
     },
     "execution_count": 11,
     "metadata": {},
     "output_type": "execute_result"
    }
   ],
   "source": [
    "df01.isna().sum() / df01.shape[0]"
   ]
  },
  {
   "cell_type": "markdown",
   "id": "e554c79f",
   "metadata": {},
   "source": [
    "## 1.4 Substituição dos dados faltantes"
   ]
  },
  {
   "cell_type": "code",
   "execution_count": 12,
   "id": "547dfd92",
   "metadata": {
    "ExecuteTime": {
     "end_time": "2021-11-18T10:20:33.809865Z",
     "start_time": "2021-11-18T10:20:33.783424Z"
    }
   },
   "outputs": [],
   "source": [
    "df01 = df01.drop(columns=['size_number', 'size_model']).dropna()"
   ]
  },
  {
   "cell_type": "markdown",
   "id": "c9a1d273",
   "metadata": {},
   "source": [
    "### 1.5.1 Numeric data"
   ]
  },
  {
   "cell_type": "markdown",
   "id": "19699411",
   "metadata": {},
   "source": [
    "## 1.5 Descrição dos dados"
   ]
  },
  {
   "cell_type": "code",
   "execution_count": 13,
   "id": "d87e733e",
   "metadata": {
    "ExecuteTime": {
     "end_time": "2021-11-18T10:20:33.822756Z",
     "start_time": "2021-11-18T10:20:33.813194Z"
    }
   },
   "outputs": [],
   "source": [
    "num_attributes = df01.select_dtypes(include=['int64', 'float64'])\n",
    "cat_attributes = df01.select_dtypes(exclude=['int64', 'float64', 'datetime64[ns]'])"
   ]
  },
  {
   "cell_type": "markdown",
   "id": "4ff06437",
   "metadata": {},
   "source": [
    "### 1.5.2 Categorical data"
   ]
  },
  {
   "cell_type": "code",
   "execution_count": 14,
   "id": "321266cf",
   "metadata": {
    "ExecuteTime": {
     "end_time": "2021-11-18T10:20:33.897622Z",
     "start_time": "2021-11-18T10:20:33.825293Z"
    }
   },
   "outputs": [
    {
     "data": {
      "text/html": [
       "<div>\n",
       "<style scoped>\n",
       "    .dataframe tbody tr th:only-of-type {\n",
       "        vertical-align: middle;\n",
       "    }\n",
       "\n",
       "    .dataframe tbody tr th {\n",
       "        vertical-align: top;\n",
       "    }\n",
       "\n",
       "    .dataframe thead th {\n",
       "        text-align: right;\n",
       "    }\n",
       "</style>\n",
       "<table border=\"1\" class=\"dataframe\">\n",
       "  <thead>\n",
       "    <tr style=\"text-align: right;\">\n",
       "      <th></th>\n",
       "      <th>attributes</th>\n",
       "      <th>min</th>\n",
       "      <th>max</th>\n",
       "      <th>range</th>\n",
       "      <th>mean</th>\n",
       "      <th>median</th>\n",
       "      <th>std</th>\n",
       "      <th>shew</th>\n",
       "      <th>kurtosis</th>\n",
       "    </tr>\n",
       "  </thead>\n",
       "  <tbody>\n",
       "    <tr>\n",
       "      <th>0</th>\n",
       "      <td>product_pric</td>\n",
       "      <td>5.99</td>\n",
       "      <td>49.99</td>\n",
       "      <td>44.00</td>\n",
       "      <td>25.551644</td>\n",
       "      <td>21.990</td>\n",
       "      <td>10.471077</td>\n",
       "      <td>0.733884</td>\n",
       "      <td>-0.052290</td>\n",
       "    </tr>\n",
       "    <tr>\n",
       "      <th>1</th>\n",
       "      <td>cotton</td>\n",
       "      <td>0.66</td>\n",
       "      <td>1.00</td>\n",
       "      <td>0.34</td>\n",
       "      <td>0.961849</td>\n",
       "      <td>0.980</td>\n",
       "      <td>0.059080</td>\n",
       "      <td>-2.659309</td>\n",
       "      <td>7.876482</td>\n",
       "    </tr>\n",
       "    <tr>\n",
       "      <th>2</th>\n",
       "      <td>polyester</td>\n",
       "      <td>0.00</td>\n",
       "      <td>1.00</td>\n",
       "      <td>1.00</td>\n",
       "      <td>0.138699</td>\n",
       "      <td>0.000</td>\n",
       "      <td>0.266045</td>\n",
       "      <td>1.938449</td>\n",
       "      <td>2.481455</td>\n",
       "    </tr>\n",
       "    <tr>\n",
       "      <th>3</th>\n",
       "      <td>elastane</td>\n",
       "      <td>0.00</td>\n",
       "      <td>0.02</td>\n",
       "      <td>0.02</td>\n",
       "      <td>0.014521</td>\n",
       "      <td>0.015</td>\n",
       "      <td>0.005862</td>\n",
       "      <td>-0.528434</td>\n",
       "      <td>-0.650466</td>\n",
       "    </tr>\n",
       "    <tr>\n",
       "      <th>4</th>\n",
       "      <td>elasterell</td>\n",
       "      <td>0.00</td>\n",
       "      <td>0.08</td>\n",
       "      <td>0.08</td>\n",
       "      <td>0.007671</td>\n",
       "      <td>0.000</td>\n",
       "      <td>0.023555</td>\n",
       "      <td>2.748459</td>\n",
       "      <td>5.563553</td>\n",
       "    </tr>\n",
       "  </tbody>\n",
       "</table>\n",
       "</div>"
      ],
      "text/plain": [
       "     attributes   min    max  range       mean  median        std      shew  \\\n",
       "0  product_pric  5.99  49.99  44.00  25.551644  21.990  10.471077  0.733884   \n",
       "1        cotton  0.66   1.00   0.34   0.961849   0.980   0.059080 -2.659309   \n",
       "2     polyester  0.00   1.00   1.00   0.138699   0.000   0.266045  1.938449   \n",
       "3      elastane  0.00   0.02   0.02   0.014521   0.015   0.005862 -0.528434   \n",
       "4    elasterell  0.00   0.08   0.08   0.007671   0.000   0.023555  2.748459   \n",
       "\n",
       "   kurtosis  \n",
       "0 -0.052290  \n",
       "1  7.876482  \n",
       "2  2.481455  \n",
       "3 -0.650466  \n",
       "4  5.563553  "
      ]
     },
     "execution_count": 14,
     "metadata": {},
     "output_type": "execute_result"
    }
   ],
   "source": [
    "# tendencia central - média, mediana\n",
    "t1 = pd.DataFrame(num_attributes.apply(np.mean)).T\n",
    "t2 = pd.DataFrame(num_attributes.apply(np.median)).T\n",
    "\n",
    "# disperson - std, min, max, range, skew, kurtosis\n",
    "d1 = pd.DataFrame(num_attributes.apply(np.std)).T\n",
    "d2 = pd.DataFrame(num_attributes.apply(np.min)).T\n",
    "d3 = pd.DataFrame(num_attributes.apply(np.max)).T\n",
    "d4 = pd.DataFrame(num_attributes.apply(lambda x: x.max() - x.min())).T\n",
    "d5 = pd.DataFrame(num_attributes.apply(lambda x: x.skew())).T\n",
    "d6 = pd.DataFrame(num_attributes.apply(lambda x: x.kurtosis())).T\n",
    "\n",
    "# concat\n",
    "m1 = pd.concat([d2, d3, d4, t1, t2, d1, d5, d6]).T.reset_index()\n",
    "m1.columns =['attributes', 'min', 'max', 'range', 'mean', 'median', 'std', 'shew', 'kurtosis']\n",
    "m1"
   ]
  },
  {
   "cell_type": "markdown",
   "id": "a3d8a7a0",
   "metadata": {},
   "source": [
    "#### mínimo"
   ]
  },
  {
   "cell_type": "markdown",
   "id": "4fd39f84",
   "metadata": {},
   "source": [
    "- Menor valor do conjuto de dados"
   ]
  },
  {
   "cell_type": "markdown",
   "id": "0486afb6",
   "metadata": {},
   "source": [
    "#### máximo"
   ]
  },
  {
   "cell_type": "markdown",
   "id": "dcdf6483",
   "metadata": {},
   "source": [
    "- Maior valor do conjunto de dados"
   ]
  },
  {
   "cell_type": "markdown",
   "id": "46821efb",
   "metadata": {},
   "source": [
    "#### range - intervalo"
   ]
  },
  {
   "cell_type": "markdown",
   "id": "a7debe3a",
   "metadata": {},
   "source": [
    "- Estimativa de variabilidade ou dispersão\n",
    "- Definição: A diferença entre o Valor máximo e mínimo"
   ]
  },
  {
   "cell_type": "markdown",
   "id": "56e911f4",
   "metadata": {},
   "source": [
    "#### média"
   ]
  },
  {
   "cell_type": "markdown",
   "id": "9c2d422c",
   "metadata": {
    "ExecuteTime": {
     "end_time": "2021-11-18T10:20:33.905737Z",
     "start_time": "2021-11-18T10:20:33.900685Z"
    }
   },
   "source": [
    "- Definição: A média é a soma de todos os valores do conjunto de dados dividido pelo numero de valores"
   ]
  },
  {
   "cell_type": "markdown",
   "id": "6e4575ed",
   "metadata": {},
   "source": [
    "#### mediana"
   ]
  },
  {
   "cell_type": "markdown",
   "id": "ef42b362",
   "metadata": {},
   "source": [
    "- Definição: É o numero do meio de uma lista ordenada"
   ]
  },
  {
   "cell_type": "markdown",
   "id": "148f32c8",
   "metadata": {},
   "source": [
    "#### desvio padrão"
   ]
  },
  {
   "cell_type": "markdown",
   "id": "d4cfad62",
   "metadata": {},
   "source": [
    "- Estimtiva de variabilidade ou disperção\n",
    "    - Mede os valores do conjunto de dados que estão próximos ou espalhados em torno de umponto central\n",
    "\n",
    "- Desvio: A diferença entre os valores observados e a estimativa de localização (média e mediana). Mostra o quanto os dados estão dispersos entorno da a média\n",
    "    - Exemplo:\n",
    "    [1, 5, 7, 10, 15] --> Média: 7.6\n",
    "    \n",
    "        - Desvio: \n",
    "        \n",
    "        1 - 7.6 = -6.6\n",
    "        \n",
    "        5 - 7.6 = -2.6\n",
    "        \n",
    "        7 - 7.6 = -0.6\n",
    "        \n",
    "        10 - 7.6 = 2.4\n",
    "        \n",
    "        15 - 7.6 = 7.4\n",
    "        \n",
    "        \n",
    "- Variância: É a soma dos desvios da média ao quadrado dividido por n-1, onde n é quanto os dados tem na amostra.\n",
    "        \n",
    "        1 - 7.6 = (-6.6)**2 = 43.56\n",
    "        \n",
    "        5 - 7.6 = (-2.6)**2 = 6.76\n",
    "        \n",
    "        7 - 7.6 = (-0.6)**2 = 0.36\n",
    "        \n",
    "        10 - 7.6 = (2.4)**2 = 5.76\n",
    "        \n",
    "        15 - 7.6 = (7.4)**2 = 54.76\n",
    "        \n",
    "        \n",
    "        (43.56+6.76+0.36+5.76+54.76) = 111.20/(5-1) = 27.8\n",
    "        \n",
    "- Desvio pdrão: É a raíz quadrada da variânça. \n",
    "        \n",
    "        (43.56+6.76+0.36+5.76+54.76) = 111.20/(5-1) = sqrt(27.8) = 5.27 \n",
    "        \n",
    "        \n",
    "        \n",
    "        \n",
    "        "
   ]
  },
  {
   "cell_type": "code",
   "execution_count": 18,
   "id": "d43eee13",
   "metadata": {
    "ExecuteTime": {
     "end_time": "2021-11-18T12:48:54.093410Z",
     "start_time": "2021-11-18T12:48:54.086819Z"
    }
   },
   "outputs": [
    {
     "data": {
      "text/plain": [
       "5.272570530585627"
      ]
     },
     "execution_count": 18,
     "metadata": {},
     "output_type": "execute_result"
    }
   ],
   "source": [
    "np.std([1, 5, 7, 10, 15], ddof=1 )"
   ]
  },
  {
   "cell_type": "markdown",
   "id": "968ba830",
   "metadata": {},
   "source": [
    "#### skewness"
   ]
  },
  {
   "cell_type": "markdown",
   "id": "d2be22a1",
   "metadata": {},
   "source": []
  },
  {
   "cell_type": "markdown",
   "id": "4705eb33",
   "metadata": {},
   "source": [
    "#### kurtosis"
   ]
  },
  {
   "cell_type": "markdown",
   "id": "a324e389",
   "metadata": {},
   "source": []
  },
  {
   "cell_type": "markdown",
   "id": "8a74ffff",
   "metadata": {},
   "source": [
    "# 2.0 Passo 02 - Feature Engineering"
   ]
  },
  {
   "cell_type": "code",
   "execution_count": null,
   "id": "36a9d004",
   "metadata": {},
   "outputs": [],
   "source": []
  },
  {
   "cell_type": "code",
   "execution_count": null,
   "id": "6f26b3db",
   "metadata": {},
   "outputs": [],
   "source": []
  },
  {
   "cell_type": "code",
   "execution_count": null,
   "id": "e4b90604",
   "metadata": {},
   "outputs": [],
   "source": []
  },
  {
   "cell_type": "code",
   "execution_count": null,
   "id": "12cf1256",
   "metadata": {},
   "outputs": [],
   "source": []
  },
  {
   "cell_type": "code",
   "execution_count": null,
   "id": "ff3218f6",
   "metadata": {},
   "outputs": [],
   "source": []
  },
  {
   "cell_type": "code",
   "execution_count": null,
   "id": "3d987b9c",
   "metadata": {},
   "outputs": [],
   "source": []
  }
 ],
 "metadata": {
  "kernelspec": {
   "display_name": "Python 3",
   "language": "python",
   "name": "python3"
  },
  "language_info": {
   "codemirror_mode": {
    "name": "ipython",
    "version": 3
   },
   "file_extension": ".py",
   "mimetype": "text/x-python",
   "name": "python",
   "nbconvert_exporter": "python",
   "pygments_lexer": "ipython3",
   "version": "3.8.8"
  },
  "toc": {
   "base_numbering": 1,
   "nav_menu": {},
   "number_sections": false,
   "sideBar": false,
   "skip_h1_title": false,
   "title_cell": "Table of Contents",
   "title_sidebar": "Contents",
   "toc_cell": false,
   "toc_position": {
    "height": "526.667px",
    "left": "1297.99px",
    "top": "89.2882px",
    "width": "146.441px"
   },
   "toc_section_display": true,
   "toc_window_display": false
  }
 },
 "nbformat": 4,
 "nbformat_minor": 5
}
