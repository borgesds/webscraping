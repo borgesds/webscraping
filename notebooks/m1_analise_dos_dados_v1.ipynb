{
 "cells": [
  {
   "cell_type": "markdown",
   "id": "3b93c46b",
   "metadata": {},
   "source": [
    "# 0.0 IMPORT"
   ]
  },
  {
   "cell_type": "code",
   "execution_count": 1,
   "id": "9bb4631a",
   "metadata": {
    "ExecuteTime": {
     "end_time": "2021-11-16T21:36:56.581866Z",
     "start_time": "2021-11-16T21:36:56.026042Z"
    }
   },
   "outputs": [],
   "source": [
    "import pandas as pd\n",
    "\n",
    "from sqlalchemy import create_engine"
   ]
  },
  {
   "cell_type": "markdown",
   "id": "c8f60f48",
   "metadata": {},
   "source": [
    "## 0.1 Coleta de dados"
   ]
  },
  {
   "cell_type": "code",
   "execution_count": 2,
   "id": "9f074664",
   "metadata": {
    "ExecuteTime": {
     "end_time": "2021-11-16T21:36:56.605132Z",
     "start_time": "2021-11-16T21:36:56.584371Z"
    }
   },
   "outputs": [],
   "source": [
    "path = '/home/borges/'\n",
    "database_name = 'database_hm.sqlite'\n",
    "conn = create_engine('sqlite:///' + path + database_name, echo=False)"
   ]
  },
  {
   "cell_type": "code",
   "execution_count": 3,
   "id": "392575b4",
   "metadata": {
    "ExecuteTime": {
     "end_time": "2021-11-16T21:36:56.619407Z",
     "start_time": "2021-11-16T21:36:56.609125Z"
    }
   },
   "outputs": [],
   "source": [
    "query = \"\"\"\n",
    "    SELECT * FROM vitrine\n",
    "\"\"\""
   ]
  },
  {
   "cell_type": "code",
   "execution_count": 4,
   "id": "a70d2bc6",
   "metadata": {
    "ExecuteTime": {
     "end_time": "2021-11-16T21:36:56.648996Z",
     "start_time": "2021-11-16T21:36:56.624842Z"
    }
   },
   "outputs": [],
   "source": [
    "df_raw = pd.read_sql(query, con=conn)"
   ]
  },
  {
   "cell_type": "code",
   "execution_count": 5,
   "id": "f479c29d",
   "metadata": {
    "ExecuteTime": {
     "end_time": "2021-11-16T21:36:56.696962Z",
     "start_time": "2021-11-16T21:36:56.651606Z"
    }
   },
   "outputs": [
    {
     "data": {
      "text/html": [
       "<div>\n",
       "<style scoped>\n",
       "    .dataframe tbody tr th:only-of-type {\n",
       "        vertical-align: middle;\n",
       "    }\n",
       "\n",
       "    .dataframe tbody tr th {\n",
       "        vertical-align: top;\n",
       "    }\n",
       "\n",
       "    .dataframe thead th {\n",
       "        text-align: right;\n",
       "    }\n",
       "</style>\n",
       "<table border=\"1\" class=\"dataframe\">\n",
       "  <thead>\n",
       "    <tr style=\"text-align: right;\">\n",
       "      <th></th>\n",
       "      <th>product_id</th>\n",
       "      <th>style_id</th>\n",
       "      <th>color_id</th>\n",
       "      <th>product_name</th>\n",
       "      <th>color_name</th>\n",
       "      <th>fit</th>\n",
       "      <th>product_pric</th>\n",
       "      <th>size_number</th>\n",
       "      <th>size_model</th>\n",
       "      <th>cotton</th>\n",
       "      <th>polyester</th>\n",
       "      <th>elastane</th>\n",
       "      <th>elasterell</th>\n",
       "      <th>scrapy_datetime</th>\n",
       "    </tr>\n",
       "  </thead>\n",
       "  <tbody>\n",
       "    <tr>\n",
       "      <th>428</th>\n",
       "      <td>0427159005</td>\n",
       "      <td>0427159</td>\n",
       "      <td>005</td>\n",
       "      <td>trashed_skinny_jeans</td>\n",
       "      <td>dark_denim_blue</td>\n",
       "      <td>skinny_fit</td>\n",
       "      <td>39.99</td>\n",
       "      <td>None</td>\n",
       "      <td>None</td>\n",
       "      <td>0.72</td>\n",
       "      <td>0.20</td>\n",
       "      <td>0.01</td>\n",
       "      <td>0.00</td>\n",
       "      <td>2021-09-07 10:14:25</td>\n",
       "    </tr>\n",
       "    <tr>\n",
       "      <th>137</th>\n",
       "      <td>0427159007</td>\n",
       "      <td>0427159</td>\n",
       "      <td>007</td>\n",
       "      <td>trashed_skinny_jeans</td>\n",
       "      <td>black_washed_out</td>\n",
       "      <td>skinny_fit</td>\n",
       "      <td>18.99</td>\n",
       "      <td>None</td>\n",
       "      <td>None</td>\n",
       "      <td>0.91</td>\n",
       "      <td>0.07</td>\n",
       "      <td>0.02</td>\n",
       "      <td>0.00</td>\n",
       "      <td>2021-09-06 19:25:43</td>\n",
       "    </tr>\n",
       "    <tr>\n",
       "      <th>203</th>\n",
       "      <td>1008549004</td>\n",
       "      <td>1008549</td>\n",
       "      <td>004</td>\n",
       "      <td>regular_jeans</td>\n",
       "      <td>dark_blue</td>\n",
       "      <td>regular_fit</td>\n",
       "      <td>19.99</td>\n",
       "      <td>189</td>\n",
       "      <td>32/32</td>\n",
       "      <td>0.99</td>\n",
       "      <td>0.63</td>\n",
       "      <td>0.01</td>\n",
       "      <td>0.00</td>\n",
       "      <td>2021-09-06 19:41:22</td>\n",
       "    </tr>\n",
       "    <tr>\n",
       "      <th>1117</th>\n",
       "      <td>0811993036</td>\n",
       "      <td>0811993</td>\n",
       "      <td>036</td>\n",
       "      <td>regular_jeans</td>\n",
       "      <td>blue</td>\n",
       "      <td>regular_fit</td>\n",
       "      <td>29.99</td>\n",
       "      <td>183</td>\n",
       "      <td>31/32</td>\n",
       "      <td>0.99</td>\n",
       "      <td>0.00</td>\n",
       "      <td>0.01</td>\n",
       "      <td>0.00</td>\n",
       "      <td>2021-09-08 09:52:51</td>\n",
       "    </tr>\n",
       "    <tr>\n",
       "      <th>402</th>\n",
       "      <td>0811993024</td>\n",
       "      <td>0811993</td>\n",
       "      <td>024</td>\n",
       "      <td>regular_jeans</td>\n",
       "      <td>denim_blue</td>\n",
       "      <td>regular_fit</td>\n",
       "      <td>29.99</td>\n",
       "      <td>None</td>\n",
       "      <td>None</td>\n",
       "      <td>1.00</td>\n",
       "      <td>0.00</td>\n",
       "      <td>0.01</td>\n",
       "      <td>0.00</td>\n",
       "      <td>2021-09-07 10:14:25</td>\n",
       "    </tr>\n",
       "    <tr>\n",
       "      <th>900</th>\n",
       "      <td>0814631003</td>\n",
       "      <td>0814631</td>\n",
       "      <td>003</td>\n",
       "      <td>freefit®_slim_jeans</td>\n",
       "      <td>dark_gray</td>\n",
       "      <td>slim_fit</td>\n",
       "      <td>27.99</td>\n",
       "      <td>None</td>\n",
       "      <td>None</td>\n",
       "      <td>0.90</td>\n",
       "      <td>0.00</td>\n",
       "      <td>0.02</td>\n",
       "      <td>0.08</td>\n",
       "      <td>2021-09-07 14:59:00</td>\n",
       "    </tr>\n",
       "    <tr>\n",
       "      <th>12</th>\n",
       "      <td>0720504001</td>\n",
       "      <td>0720504</td>\n",
       "      <td>001</td>\n",
       "      <td>skinny_jeans</td>\n",
       "      <td>black</td>\n",
       "      <td>skinny_fit</td>\n",
       "      <td>14.99</td>\n",
       "      <td>None</td>\n",
       "      <td>None</td>\n",
       "      <td>0.80</td>\n",
       "      <td>1.00</td>\n",
       "      <td>0.01</td>\n",
       "      <td>0.00</td>\n",
       "      <td>2021-09-06 19:25:43</td>\n",
       "    </tr>\n",
       "    <tr>\n",
       "      <th>1027</th>\n",
       "      <td>0636207006</td>\n",
       "      <td>0636207</td>\n",
       "      <td>006</td>\n",
       "      <td>slim_jeans</td>\n",
       "      <td>black</td>\n",
       "      <td>slim_fit</td>\n",
       "      <td>19.99</td>\n",
       "      <td>None</td>\n",
       "      <td>None</td>\n",
       "      <td>0.98</td>\n",
       "      <td>0.00</td>\n",
       "      <td>0.02</td>\n",
       "      <td>0.00</td>\n",
       "      <td>2021-09-08 09:52:51</td>\n",
       "    </tr>\n",
       "  </tbody>\n",
       "</table>\n",
       "</div>"
      ],
      "text/plain": [
       "      product_id style_id color_id          product_name        color_name  \\\n",
       "428   0427159005  0427159      005  trashed_skinny_jeans   dark_denim_blue   \n",
       "137   0427159007  0427159      007  trashed_skinny_jeans  black_washed_out   \n",
       "203   1008549004  1008549      004         regular_jeans         dark_blue   \n",
       "1117  0811993036  0811993      036         regular_jeans              blue   \n",
       "402   0811993024  0811993      024         regular_jeans        denim_blue   \n",
       "900   0814631003  0814631      003   freefit®_slim_jeans         dark_gray   \n",
       "12    0720504001  0720504      001          skinny_jeans             black   \n",
       "1027  0636207006  0636207      006            slim_jeans             black   \n",
       "\n",
       "              fit  product_pric size_number size_model  cotton  polyester  \\\n",
       "428    skinny_fit         39.99        None       None    0.72       0.20   \n",
       "137    skinny_fit         18.99        None       None    0.91       0.07   \n",
       "203   regular_fit         19.99         189      32/32    0.99       0.63   \n",
       "1117  regular_fit         29.99         183      31/32    0.99       0.00   \n",
       "402   regular_fit         29.99        None       None    1.00       0.00   \n",
       "900      slim_fit         27.99        None       None    0.90       0.00   \n",
       "12     skinny_fit         14.99        None       None    0.80       1.00   \n",
       "1027     slim_fit         19.99        None       None    0.98       0.00   \n",
       "\n",
       "      elastane  elasterell      scrapy_datetime  \n",
       "428       0.01        0.00  2021-09-07 10:14:25  \n",
       "137       0.02        0.00  2021-09-06 19:25:43  \n",
       "203       0.01        0.00  2021-09-06 19:41:22  \n",
       "1117      0.01        0.00  2021-09-08 09:52:51  \n",
       "402       0.01        0.00  2021-09-07 10:14:25  \n",
       "900       0.02        0.08  2021-09-07 14:59:00  \n",
       "12        0.01        0.00  2021-09-06 19:25:43  \n",
       "1027      0.02        0.00  2021-09-08 09:52:51  "
      ]
     },
     "execution_count": 5,
     "metadata": {},
     "output_type": "execute_result"
    }
   ],
   "source": [
    "df_raw.sample(8)"
   ]
  },
  {
   "cell_type": "markdown",
   "id": "9d472698",
   "metadata": {},
   "source": [
    "# 1.0 Passo 01 - Descrição dos dados"
   ]
  },
  {
   "cell_type": "code",
   "execution_count": 6,
   "id": "14df367b",
   "metadata": {
    "ExecuteTime": {
     "end_time": "2021-11-16T21:36:56.711714Z",
     "start_time": "2021-11-16T21:36:56.699686Z"
    }
   },
   "outputs": [],
   "source": [
    "df01 = df_raw.copy()"
   ]
  },
  {
   "cell_type": "markdown",
   "id": "fd97097b",
   "metadata": {},
   "source": [
    "## 1.1 Dimesão dos dados"
   ]
  },
  {
   "cell_type": "code",
   "execution_count": 7,
   "id": "7b5698b3",
   "metadata": {
    "ExecuteTime": {
     "end_time": "2021-11-16T21:36:56.720925Z",
     "start_time": "2021-11-16T21:36:56.713978Z"
    }
   },
   "outputs": [
    {
     "name": "stdout",
     "output_type": "stream",
     "text": [
      "Number of Rows: 1168\n",
      "Number of Columns: 14\n"
     ]
    }
   ],
   "source": [
    "print('Number of Rows: {}'.format(df01.shape[0]))\n",
    "print('Number of Columns: {}'.format(df01.shape[1]))"
   ]
  },
  {
   "cell_type": "markdown",
   "id": "213b070e",
   "metadata": {},
   "source": [
    "## 1.2 Tipos de dados"
   ]
  },
  {
   "cell_type": "code",
   "execution_count": 8,
   "id": "de86a51f",
   "metadata": {
    "ExecuteTime": {
     "end_time": "2021-11-16T21:36:56.737869Z",
     "start_time": "2021-11-16T21:36:56.725922Z"
    }
   },
   "outputs": [
    {
     "data": {
      "text/plain": [
       "product_id          object\n",
       "style_id            object\n",
       "color_id            object\n",
       "product_name        object\n",
       "color_name          object\n",
       "fit                 object\n",
       "product_pric       float64\n",
       "size_number         object\n",
       "size_model          object\n",
       "cotton             float64\n",
       "polyester          float64\n",
       "elastane           float64\n",
       "elasterell         float64\n",
       "scrapy_datetime     object\n",
       "dtype: object"
      ]
     },
     "execution_count": 8,
     "metadata": {},
     "output_type": "execute_result"
    }
   ],
   "source": [
    "df01.dtypes"
   ]
  },
  {
   "cell_type": "code",
   "execution_count": 9,
   "id": "27a2563f",
   "metadata": {
    "ExecuteTime": {
     "end_time": "2021-11-16T21:36:56.751962Z",
     "start_time": "2021-11-16T21:36:56.741237Z"
    }
   },
   "outputs": [],
   "source": [
    "# convert object to datetime\n",
    "df01['scrapy_datetime'] = pd.to_datetime(df01['scrapy_datetime'])"
   ]
  },
  {
   "cell_type": "markdown",
   "id": "8df687b5",
   "metadata": {},
   "source": [
    "## 1.3 Idetificação de dados faltantes"
   ]
  },
  {
   "cell_type": "code",
   "execution_count": 10,
   "id": "8a47f592",
   "metadata": {
    "ExecuteTime": {
     "end_time": "2021-11-16T21:36:56.768749Z",
     "start_time": "2021-11-16T21:36:56.754685Z"
    },
    "cell_style": "split",
    "scrolled": true
   },
   "outputs": [
    {
     "data": {
      "text/plain": [
       "product_id           0\n",
       "style_id             0\n",
       "color_id             0\n",
       "product_name         0\n",
       "color_name           0\n",
       "fit                  0\n",
       "product_pric         0\n",
       "size_number        918\n",
       "size_model         934\n",
       "cotton               0\n",
       "polyester            0\n",
       "elastane             0\n",
       "elasterell           0\n",
       "scrapy_datetime      0\n",
       "dtype: int64"
      ]
     },
     "execution_count": 10,
     "metadata": {},
     "output_type": "execute_result"
    }
   ],
   "source": [
    "df01.isna().sum()"
   ]
  },
  {
   "cell_type": "code",
   "execution_count": 12,
   "id": "f0346c69",
   "metadata": {
    "ExecuteTime": {
     "end_time": "2021-11-16T21:38:05.786759Z",
     "start_time": "2021-11-16T21:38:05.777807Z"
    },
    "cell_style": "split"
   },
   "outputs": [
    {
     "data": {
      "text/plain": [
       "product_id         0.000000\n",
       "style_id           0.000000\n",
       "color_id           0.000000\n",
       "product_name       0.000000\n",
       "color_name         0.000000\n",
       "fit                0.000000\n",
       "product_pric       0.000000\n",
       "size_number        0.785959\n",
       "size_model         0.799658\n",
       "cotton             0.000000\n",
       "polyester          0.000000\n",
       "elastane           0.000000\n",
       "elasterell         0.000000\n",
       "scrapy_datetime    0.000000\n",
       "dtype: float64"
      ]
     },
     "execution_count": 12,
     "metadata": {},
     "output_type": "execute_result"
    }
   ],
   "source": [
    "df01.isna().sum() / df01.shape[0]"
   ]
  },
  {
   "cell_type": "code",
   "execution_count": null,
   "id": "deecb00b",
   "metadata": {},
   "outputs": [],
   "source": []
  },
  {
   "cell_type": "markdown",
   "id": "e554c79f",
   "metadata": {},
   "source": [
    "## 1.4 Substituição dos dados faltantes"
   ]
  },
  {
   "cell_type": "markdown",
   "id": "19699411",
   "metadata": {},
   "source": [
    "## 1.5 Descrição dos dados"
   ]
  },
  {
   "cell_type": "code",
   "execution_count": null,
   "id": "71e2bfc2",
   "metadata": {},
   "outputs": [],
   "source": []
  },
  {
   "cell_type": "code",
   "execution_count": null,
   "id": "7f1e60f6",
   "metadata": {},
   "outputs": [],
   "source": []
  },
  {
   "cell_type": "code",
   "execution_count": null,
   "id": "36a9d004",
   "metadata": {},
   "outputs": [],
   "source": []
  }
 ],
 "metadata": {
  "kernelspec": {
   "display_name": "Python 3",
   "language": "python",
   "name": "python3"
  },
  "language_info": {
   "codemirror_mode": {
    "name": "ipython",
    "version": 3
   },
   "file_extension": ".py",
   "mimetype": "text/x-python",
   "name": "python",
   "nbconvert_exporter": "python",
   "pygments_lexer": "ipython3",
   "version": "3.8.8"
  },
  "toc": {
   "base_numbering": 1,
   "nav_menu": {},
   "number_sections": false,
   "sideBar": false,
   "skip_h1_title": false,
   "title_cell": "Table of Contents",
   "title_sidebar": "Contents",
   "toc_cell": false,
   "toc_position": {
    "height": "526.667px",
    "left": "1297.99px",
    "top": "89.2882px",
    "width": "146.441px"
   },
   "toc_section_display": true,
   "toc_window_display": false
  }
 },
 "nbformat": 4,
 "nbformat_minor": 5
}
